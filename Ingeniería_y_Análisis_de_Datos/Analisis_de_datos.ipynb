{
 "cells": [
  {
   "cell_type": "markdown",
   "id": "6cb01994",
   "metadata": {},
   "source": [
    "# Análisis de datos"
   ]
  },
  {
   "cell_type": "markdown",
   "id": "1553e1a7",
   "metadata": {},
   "source": [
    "En este notebook se documenta el proceso de las tareas asociadas al rol de análisis de datos"
   ]
  },
  {
   "cell_type": "markdown",
   "id": "6bc42d02",
   "metadata": {},
   "source": [
    "## Librerías"
   ]
  },
  {
   "cell_type": "code",
   "execution_count": null,
   "id": "32c8481d",
   "metadata": {},
   "outputs": [],
   "source": [
    "import numpy as np\n",
    "import pandas as pd\n",
    "import matplotlib.pyplot as plt\n",
    "import seaborn as sns"
   ]
  },
  {
   "cell_type": "markdown",
   "id": "8c4188e8",
   "metadata": {},
   "source": [
    "## Carga de datos"
   ]
  },
  {
   "cell_type": "code",
   "execution_count": null,
   "id": "fd88197b",
   "metadata": {},
   "outputs": [],
   "source": [
    "df = pd.read_csv(\"..\\Data\\Raw_data.csv\", low_memory=False)"
   ]
  },
  {
   "cell_type": "markdown",
   "id": "4be5a064",
   "metadata": {},
   "source": [
    "## Tarea 3: Exploración de datos"
   ]
  },
  {
   "cell_type": "code",
   "execution_count": null,
   "id": "f9cf9064",
   "metadata": {},
   "outputs": [
    {
     "name": "stdout",
     "output_type": "stream",
     "text": [
      "\n",
      "Estadísticas descriptivas para variables numéricas:\n",
      "       periodo  cole_cod_dane_establecimiento  cole_cod_dane_sede  \\\n",
      "count  32348.0                   3.234800e+04        3.234800e+04   \n",
      "mean   20181.0                   3.491787e+11        3.492569e+11   \n",
      "std        0.0                   5.036373e+10        5.070215e+10   \n",
      "min    20181.0                   1.050010e+11        1.050010e+11   \n",
      "25%    20181.0                   3.117690e+11        3.117690e+11   \n",
      "50%    20181.0                   3.686790e+11        3.686790e+11   \n",
      "75%    20181.0                   3.760010e+11        3.760010e+11   \n",
      "max    20181.0                   5.190010e+11        6.252690e+11   \n",
      "\n",
      "       cole_cod_depto_ubicacion  cole_cod_mcpio_ubicacion  cole_codigo_icfes  \\\n",
      "count              32348.000000              32348.000000       32348.000000   \n",
      "mean                  44.853314              44959.804965      109596.883208   \n",
      "std                   30.735132              30732.884547      151221.414608   \n",
      "min                    5.000000               5001.000000         182.000000   \n",
      "25%                   11.000000              11001.000000       19513.000000   \n",
      "50%                   52.000000              52001.000000       70086.000000   \n",
      "75%                   76.000000              76001.000000      126409.000000   \n",
      "max                   95.000000              95001.000000      714659.000000   \n",
      "\n",
      "       estu_cod_depto_presentacion  estu_cod_mcpio_presentacion  \\\n",
      "count                 32211.000000                 32346.000000   \n",
      "mean                     44.091087                 43970.756539   \n",
      "std                      31.161172                 31234.473783   \n",
      "min                       5.000000                    76.000000   \n",
      "25%                      11.000000                 11001.000000   \n",
      "50%                      52.000000                 52001.000000   \n",
      "75%                      76.000000                 76001.000000   \n",
      "max                      95.000000                 95001.000000   \n",
      "\n",
      "       estu_cod_reside_depto  estu_cod_reside_mcpio   punt_ingles  \\\n",
      "count           32332.000000           32332.000000  32211.000000   \n",
      "mean              364.494989           44143.983948     64.975816   \n",
      "std              4929.301030           31151.850364     17.184587   \n",
      "min                 5.000000              76.000000      0.000000   \n",
      "25%                11.000000           11001.000000     52.000000   \n",
      "50%                52.000000           52001.000000     67.000000   \n",
      "75%                76.000000           76001.000000     80.000000   \n",
      "max             99999.000000           99999.000000    100.000000   \n",
      "\n",
      "       punt_matematicas  punt_sociales_ciudadanas  punt_c_naturales  \\\n",
      "count      32346.000000              32348.000000      32348.000000   \n",
      "mean          59.565078                 58.523340         58.970385   \n",
      "std           14.124508                 12.981267         12.591645   \n",
      "min            0.000000                 20.000000         25.000000   \n",
      "25%           50.000000                 49.000000         50.000000   \n",
      "50%           61.000000                 60.000000         61.000000   \n",
      "75%           70.000000                 68.000000         68.000000   \n",
      "max          100.000000                100.000000        100.000000   \n",
      "\n",
      "       punt_lectura_critica   punt_global  \n",
      "count          32348.000000  32348.000000  \n",
      "mean              61.157197    299.121399  \n",
      "std               10.809107     61.879545  \n",
      "min                0.000000     31.000000  \n",
      "25%               54.000000    256.000000  \n",
      "50%               62.000000    308.000000  \n",
      "75%               69.000000    347.000000  \n",
      "max              100.000000    475.000000  \n"
     ]
    }
   ],
   "source": [
    "# Estadísticas descriptivas para columnas numéricas\n",
    "print(\"\\nEstadísticas descriptivas para variables numéricas:\")\n",
    "print(df[columnas_numericas].describe())"
   ]
  },
  {
   "cell_type": "code",
   "execution_count": null,
   "id": "1534c584",
   "metadata": {},
   "outputs": [
    {
     "name": "stdout",
     "output_type": "stream",
     "text": [
      "\n",
      "Estadísticas descriptivas para variables categóricas:\n",
      "       estu_tipodocumento  estu_consecutivo cole_area_ubicacion cole_bilingue  \\\n",
      "count               32348             32348               32348         27513   \n",
      "unique                  8             19798                   2             2   \n",
      "top                    TI  SB11201810021630              URBANO             N   \n",
      "freq                24947                 3               28241         20318   \n",
      "\n",
      "       cole_calendario cole_caracter cole_depto_ubicacion cole_genero  \\\n",
      "count            32348         31074                32348       32348   \n",
      "unique               3             4                   29           3   \n",
      "top                  B     ACADÉMICO                VALLE       MIXTO   \n",
      "freq             25829         25007                14167       29084   \n",
      "\n",
      "       cole_jornada cole_mcpio_ubicacion  ... fami_cuartoshogar  \\\n",
      "count         32348                32348  ...             31534   \n",
      "unique            6                  134  ...                 8   \n",
      "top        COMPLETA                 CALI  ...              Tres   \n",
      "freq          17355                11063  ...             14215   \n",
      "\n",
      "                   fami_educacionmadre             fami_educacionpadre  \\\n",
      "count                            30605                           30594   \n",
      "unique                              19                              13   \n",
      "top     Educación profesional completa  Educación profesional completa   \n",
      "freq                             10824                            9422   \n",
      "\n",
      "       fami_estratovivienda fami_personashogar fami_tieneautomovil  \\\n",
      "count                 30508              31342               31468   \n",
      "unique                   17                 14                   8   \n",
      "top               Estrato 3              3 a 4                  Si   \n",
      "freq                   7600              19037               21639   \n",
      "\n",
      "       fami_tienecomputador fami_tieneinternet fami_tienelavadora  \\\n",
      "count                 31558              30605              31581   \n",
      "unique                    3                  2                  2   \n",
      "top                      Si                 Si                 Si   \n",
      "freq                  28360              28153              29259   \n",
      "\n",
      "       desemp_ingles  \n",
      "count          32345  \n",
      "unique             7  \n",
      "top               B+  \n",
      "freq            9202  \n",
      "\n",
      "[4 rows x 35 columns]\n"
     ]
    }
   ],
   "source": [
    "# Estadísticas descriptivas para columnas categóricas\n",
    "print(\"\\nEstadísticas descriptivas para variables categóricas:\")\n",
    "print(df[columnas_no_numericas].describe(include='object'))"
   ]
  }
 ],
 "metadata": {
  "language_info": {
   "name": "python"
  }
 },
 "nbformat": 4,
 "nbformat_minor": 5
}

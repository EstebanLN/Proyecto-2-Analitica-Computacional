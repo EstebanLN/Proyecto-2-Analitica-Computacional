{
 "cells": [
  {
   "cell_type": "markdown",
   "id": "6cb01994",
   "metadata": {},
   "source": [
    "# Análisis de datos"
   ]
  },
  {
   "cell_type": "markdown",
   "id": "1553e1a7",
   "metadata": {},
   "source": [
    "En este notebook se documenta el proceso de las tareas asociadas al rol de análisis de datos"
   ]
  },
  {
   "cell_type": "markdown",
   "id": "6bc42d02",
   "metadata": {},
   "source": [
    "## Librerías"
   ]
  },
  {
   "cell_type": "code",
   "execution_count": 4,
   "id": "32c8481d",
   "metadata": {},
   "outputs": [],
   "source": [
    "import numpy as np\n",
    "import pandas as pd\n",
    "import matplotlib.pyplot as plt\n",
    "import seaborn as sns"
   ]
  },
  {
   "cell_type": "markdown",
   "id": "8c4188e8",
   "metadata": {},
   "source": [
    "## Carga de datos"
   ]
  },
  {
   "cell_type": "code",
   "execution_count": 5,
   "id": "fd88197b",
   "metadata": {},
   "outputs": [],
   "source": [
    "df = pd.read_csv(\"..\\Data\\Clean_data.csv\", low_memory=False)"
   ]
  },
  {
   "cell_type": "code",
   "execution_count": 6,
   "id": "214a5215",
   "metadata": {},
   "outputs": [
    {
     "name": "stdout",
     "output_type": "stream",
     "text": [
      "Columnas no numéricas: ['estu_tipodocumento', 'estu_consecutivo', 'cole_area_ubicacion', 'cole_bilingue', 'cole_calendario', 'cole_caracter', 'cole_depto_ubicacion', 'cole_genero', 'cole_jornada', 'cole_mcpio_ubicacion', 'cole_naturaleza', 'cole_nombre_establecimiento', 'cole_nombre_sede', 'cole_sede_principal', 'estu_depto_presentacion', 'estu_depto_reside', 'estu_estadoinvestigacion', 'estu_estudiante', 'estu_fechanacimiento', 'estu_genero', 'estu_mcpio_presentacion', 'estu_mcpio_reside', 'estu_nacionalidad', 'estu_pais_reside', 'estu_privado_libertad', 'fami_cuartoshogar', 'fami_educacionmadre', 'fami_educacionpadre', 'fami_estratovivienda', 'fami_personashogar', 'fami_tieneautomovil', 'fami_tienecomputador', 'fami_tieneinternet', 'fami_tienelavadora', 'desemp_ingles']\n",
      "Columnas numéricas: ['periodo', 'cole_cod_dane_establecimiento', 'cole_cod_dane_sede', 'cole_cod_depto_ubicacion', 'cole_cod_mcpio_ubicacion', 'cole_codigo_icfes', 'estu_cod_depto_presentacion', 'estu_cod_mcpio_presentacion', 'estu_cod_reside_depto', 'estu_cod_reside_mcpio', 'punt_ingles', 'punt_matematicas', 'punt_sociales_ciudadanas', 'punt_c_naturales', 'punt_lectura_critica', 'punt_global', 'semestre_prueba']\n"
     ]
    }
   ],
   "source": [
    "columnas_numericas = df.select_dtypes(include=['number']).columns.tolist()\n",
    "columnas_no_numericas = df.select_dtypes(exclude=['number']).columns.tolist()\n",
    "print(f\"Columnas no numéricas: {columnas_no_numericas}\\nColumnas numéricas: {columnas_numericas}\")"
   ]
  },
  {
   "cell_type": "markdown",
   "id": "4be5a064",
   "metadata": {},
   "source": [
    "## Tarea 3: Exploración de datos"
   ]
  },
  {
   "cell_type": "code",
   "execution_count": 7,
   "id": "f9cf9064",
   "metadata": {},
   "outputs": [
    {
     "name": "stdout",
     "output_type": "stream",
     "text": [
      "\n",
      "Estadísticas descriptivas para variables numéricas:\n",
      "       periodo  cole_cod_dane_establecimiento  cole_cod_dane_sede  \\\n",
      "count  32343.0                   3.234300e+04        3.234300e+04   \n",
      "mean   20181.0                   3.491821e+11        3.492604e+11   \n",
      "std        0.0                   5.036591e+10        5.070437e+10   \n",
      "min    20181.0                   1.050010e+11        1.050010e+11   \n",
      "25%    20181.0                   3.117690e+11        3.117690e+11   \n",
      "50%    20181.0                   3.686790e+11        3.686790e+11   \n",
      "75%    20181.0                   3.760010e+11        3.760010e+11   \n",
      "max    20181.0                   5.190010e+11        6.252690e+11   \n",
      "\n",
      "       cole_cod_depto_ubicacion  cole_cod_mcpio_ubicacion  cole_codigo_icfes  \\\n",
      "count              32343.000000              32343.000000        32343.00000   \n",
      "mean                  44.856167              44962.663327       109598.42915   \n",
      "std                   30.735086              30732.838382       151230.54915   \n",
      "min                    5.000000               5001.000000          182.00000   \n",
      "25%                   11.000000              11001.000000        19513.00000   \n",
      "50%                   52.000000              52001.000000        70086.00000   \n",
      "75%                   76.000000              76001.000000       126409.00000   \n",
      "max                   95.000000              95001.000000       714659.00000   \n",
      "\n",
      "       estu_cod_depto_presentacion  estu_cod_mcpio_presentacion  \\\n",
      "count                 32208.000000                 32343.000000   \n",
      "mean                     44.092151                 43971.804966   \n",
      "std                      31.161025                 31234.338558   \n",
      "min                       5.000000                    76.000000   \n",
      "25%                      11.000000                 11001.000000   \n",
      "50%                      52.000000                 52001.000000   \n",
      "75%                      76.000000                 76001.000000   \n",
      "max                      95.000000                 95001.000000   \n",
      "\n",
      "       estu_cod_reside_depto  estu_cod_reside_mcpio   punt_ingles  \\\n",
      "count           32327.000000           32327.000000  32208.000000   \n",
      "mean              364.547282           44146.728246     64.975317   \n",
      "std              4929.680430           31151.933122     17.184693   \n",
      "min                 5.000000              76.000000      0.000000   \n",
      "25%                11.000000           11001.000000     52.000000   \n",
      "50%                52.000000           52001.000000     67.000000   \n",
      "75%                76.000000           76001.000000     80.000000   \n",
      "max             99999.000000           99999.000000    100.000000   \n",
      "\n",
      "       punt_matematicas  punt_sociales_ciudadanas  punt_c_naturales  \\\n",
      "count      32343.000000              32343.000000      32343.000000   \n",
      "mean          59.563120                 58.524008         58.971586   \n",
      "std           14.121246                 12.981143         12.589671   \n",
      "min            0.000000                 20.000000         25.000000   \n",
      "25%           50.000000                 49.000000         50.000000   \n",
      "50%           61.000000                 60.000000         61.000000   \n",
      "75%           70.000000                 68.000000         68.000000   \n",
      "max          100.000000                100.000000        100.000000   \n",
      "\n",
      "       punt_lectura_critica   punt_global  semestre_prueba  \n",
      "count          32343.000000  32343.000000          32343.0  \n",
      "mean              61.157345    299.133043              1.0  \n",
      "std               10.808682     61.845894              0.0  \n",
      "min                0.000000     31.000000              1.0  \n",
      "25%               54.000000    256.000000              1.0  \n",
      "50%               62.000000    308.000000              1.0  \n",
      "75%               69.000000    347.000000              1.0  \n",
      "max              100.000000    475.000000              1.0  \n"
     ]
    }
   ],
   "source": [
    "# Estadísticas descriptivas para columnas numéricas\n",
    "print(\"\\nEstadísticas descriptivas para variables numéricas:\")\n",
    "print(df[columnas_numericas].describe())"
   ]
  },
  {
   "cell_type": "code",
   "execution_count": 8,
   "id": "1534c584",
   "metadata": {},
   "outputs": [
    {
     "name": "stdout",
     "output_type": "stream",
     "text": [
      "\n",
      "Estadísticas descriptivas para variables categóricas:\n",
      "       estu_tipodocumento  estu_consecutivo cole_area_ubicacion cole_bilingue  \\\n",
      "count               32343             32343               32343         32343   \n",
      "unique                  8             19794                   2             3   \n",
      "top                    TI  SB11201810021815              URBANO             0   \n",
      "freq                24944                 3               28236         20317   \n",
      "\n",
      "       cole_calendario cole_caracter cole_depto_ubicacion cole_genero  \\\n",
      "count            32343         32343                32343       32343   \n",
      "unique               3             5                   29           3   \n",
      "top                  B     ACADEMICO                VALLE       MIXTO   \n",
      "freq             25826         25003                14166       29079   \n",
      "\n",
      "       cole_jornada cole_mcpio_ubicacion  ... fami_cuartoshogar  \\\n",
      "count         32343                32343  ...             32343   \n",
      "unique            6                  133  ...                 7   \n",
      "top        COMPLETA                 CALI  ...              TRES   \n",
      "freq          17353                11062  ...             14260   \n",
      "\n",
      "                   fami_educacionmadre             fami_educacionpadre  \\\n",
      "count                            32343                           32343   \n",
      "unique                              13                              13   \n",
      "top     EDUCACION PROFESIONAL COMPLETA  EDUCACION PROFESIONAL COMPLETA   \n",
      "freq                             10839                            9422   \n",
      "\n",
      "       fami_estratovivienda fami_personashogar fami_tieneautomovil  \\\n",
      "count                 32343              32343               32343   \n",
      "unique                    8                  6                   3   \n",
      "top               ESTRATO 3              3 A 4                   1   \n",
      "freq                   7610              19103               21698   \n",
      "\n",
      "       fami_tienecomputador fami_tieneinternet fami_tienelavadora  \\\n",
      "count                 32343              32343              32343   \n",
      "unique                    3                  3                  3   \n",
      "top                       1                  1                  1   \n",
      "freq                  28400              28140              29275   \n",
      "\n",
      "       desemp_ingles  \n",
      "count          32343  \n",
      "unique             8  \n",
      "top               B+  \n",
      "freq            9200  \n",
      "\n",
      "[4 rows x 35 columns]\n"
     ]
    }
   ],
   "source": [
    "# Estadísticas descriptivas para columnas categóricas\n",
    "print(\"\\nEstadísticas descriptivas para variables categóricas:\")\n",
    "print(df[columnas_no_numericas].describe(include='object'))"
   ]
  }
 ],
 "metadata": {
  "kernelspec": {
   "display_name": "Python 3",
   "language": "python",
   "name": "python3"
  },
  "language_info": {
   "codemirror_mode": {
    "name": "ipython",
    "version": 3
   },
   "file_extension": ".py",
   "mimetype": "text/x-python",
   "name": "python",
   "nbconvert_exporter": "python",
   "pygments_lexer": "ipython3",
   "version": "3.11.9"
  }
 },
 "nbformat": 4,
 "nbformat_minor": 5
}

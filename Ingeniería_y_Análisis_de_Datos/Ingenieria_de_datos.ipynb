{
 "cells": [
  {
   "cell_type": "markdown",
   "id": "3129ac26",
   "metadata": {},
   "source": [
    "# Ingeniería de datos"
   ]
  },
  {
   "cell_type": "markdown",
   "id": "ef3b603a",
   "metadata": {},
   "source": [
    "En este notebook se documenta el proceso de las tareas asociadas al rol de ingeniería de datos"
   ]
  },
  {
   "cell_type": "markdown",
   "id": "9d794203",
   "metadata": {},
   "source": [
    "## Librerías"
   ]
  },
  {
   "cell_type": "code",
   "execution_count": 41,
   "id": "de7bcd1e",
   "metadata": {},
   "outputs": [],
   "source": [
    "import numpy as np\n",
    "import pandas as pd\n",
    "import matplotlib.pyplot as plt\n",
    "import seaborn as sns"
   ]
  },
  {
   "cell_type": "markdown",
   "id": "48e399d7",
   "metadata": {},
   "source": [
    "## Carga de datos"
   ]
  },
  {
   "cell_type": "code",
   "execution_count": 42,
   "id": "a65a7497",
   "metadata": {},
   "outputs": [],
   "source": [
    "df = pd.read_csv(\"..\\Data\\Raw_data.csv\", low_memory=False)"
   ]
  },
  {
   "cell_type": "markdown",
   "id": "c92195bb",
   "metadata": {},
   "source": [
    "## Tarea 2: Selección, limpieza y alistamiento de datos "
   ]
  },
  {
   "cell_type": "code",
   "execution_count": 43,
   "id": "9230b7c2",
   "metadata": {},
   "outputs": [
    {
     "data": {
      "application/vnd.microsoft.datawrangler.viewer.v0+json": {
       "columns": [
        {
         "name": "index",
         "rawType": "int64",
         "type": "integer"
        },
        {
         "name": "periodo",
         "rawType": "int64",
         "type": "integer"
        },
        {
         "name": "estu_tipodocumento",
         "rawType": "object",
         "type": "string"
        },
        {
         "name": "estu_consecutivo",
         "rawType": "object",
         "type": "string"
        },
        {
         "name": "cole_area_ubicacion",
         "rawType": "object",
         "type": "string"
        },
        {
         "name": "cole_bilingue",
         "rawType": "object",
         "type": "unknown"
        },
        {
         "name": "cole_calendario",
         "rawType": "object",
         "type": "string"
        },
        {
         "name": "cole_caracter",
         "rawType": "object",
         "type": "string"
        },
        {
         "name": "cole_cod_dane_establecimiento",
         "rawType": "int64",
         "type": "integer"
        },
        {
         "name": "cole_cod_dane_sede",
         "rawType": "int64",
         "type": "integer"
        },
        {
         "name": "cole_cod_depto_ubicacion",
         "rawType": "int64",
         "type": "integer"
        },
        {
         "name": "cole_cod_mcpio_ubicacion",
         "rawType": "int64",
         "type": "integer"
        },
        {
         "name": "cole_codigo_icfes",
         "rawType": "int64",
         "type": "integer"
        },
        {
         "name": "cole_depto_ubicacion",
         "rawType": "object",
         "type": "string"
        },
        {
         "name": "cole_genero",
         "rawType": "object",
         "type": "string"
        },
        {
         "name": "cole_jornada",
         "rawType": "object",
         "type": "string"
        },
        {
         "name": "cole_mcpio_ubicacion",
         "rawType": "object",
         "type": "string"
        },
        {
         "name": "cole_naturaleza",
         "rawType": "object",
         "type": "string"
        },
        {
         "name": "cole_nombre_establecimiento",
         "rawType": "object",
         "type": "string"
        },
        {
         "name": "cole_nombre_sede",
         "rawType": "object",
         "type": "string"
        },
        {
         "name": "cole_sede_principal",
         "rawType": "object",
         "type": "string"
        },
        {
         "name": "estu_cod_depto_presentacion",
         "rawType": "float64",
         "type": "float"
        },
        {
         "name": "estu_cod_mcpio_presentacion",
         "rawType": "float64",
         "type": "float"
        },
        {
         "name": "estu_cod_reside_depto",
         "rawType": "float64",
         "type": "float"
        },
        {
         "name": "estu_cod_reside_mcpio",
         "rawType": "float64",
         "type": "float"
        },
        {
         "name": "estu_depto_presentacion",
         "rawType": "object",
         "type": "string"
        },
        {
         "name": "estu_depto_reside",
         "rawType": "object",
         "type": "string"
        },
        {
         "name": "estu_estadoinvestigacion",
         "rawType": "object",
         "type": "string"
        },
        {
         "name": "estu_estudiante",
         "rawType": "object",
         "type": "string"
        },
        {
         "name": "estu_fechanacimiento",
         "rawType": "object",
         "type": "string"
        },
        {
         "name": "estu_genero",
         "rawType": "object",
         "type": "string"
        },
        {
         "name": "estu_mcpio_presentacion",
         "rawType": "object",
         "type": "string"
        },
        {
         "name": "estu_mcpio_reside",
         "rawType": "object",
         "type": "string"
        },
        {
         "name": "estu_nacionalidad",
         "rawType": "object",
         "type": "string"
        },
        {
         "name": "estu_pais_reside",
         "rawType": "object",
         "type": "string"
        },
        {
         "name": "estu_privado_libertad",
         "rawType": "object",
         "type": "string"
        },
        {
         "name": "fami_cuartoshogar",
         "rawType": "object",
         "type": "string"
        },
        {
         "name": "fami_educacionmadre",
         "rawType": "object",
         "type": "string"
        },
        {
         "name": "fami_educacionpadre",
         "rawType": "object",
         "type": "string"
        },
        {
         "name": "fami_estratovivienda",
         "rawType": "object",
         "type": "string"
        },
        {
         "name": "fami_personashogar",
         "rawType": "object",
         "type": "string"
        },
        {
         "name": "fami_tieneautomovil",
         "rawType": "object",
         "type": "string"
        },
        {
         "name": "fami_tienecomputador",
         "rawType": "object",
         "type": "string"
        },
        {
         "name": "fami_tieneinternet",
         "rawType": "object",
         "type": "string"
        },
        {
         "name": "fami_tienelavadora",
         "rawType": "object",
         "type": "string"
        },
        {
         "name": "desemp_ingles",
         "rawType": "object",
         "type": "string"
        },
        {
         "name": "punt_ingles",
         "rawType": "float64",
         "type": "float"
        },
        {
         "name": "punt_matematicas",
         "rawType": "float64",
         "type": "float"
        },
        {
         "name": "punt_sociales_ciudadanas",
         "rawType": "int64",
         "type": "integer"
        },
        {
         "name": "punt_c_naturales",
         "rawType": "int64",
         "type": "integer"
        },
        {
         "name": "punt_lectura_critica",
         "rawType": "int64",
         "type": "integer"
        },
        {
         "name": "punt_global",
         "rawType": "int64",
         "type": "integer"
        }
       ],
       "conversionMethod": "pd.DataFrame",
       "ref": "6031320e-b859-4652-b2e7-32a5ddcff69e",
       "rows": [
        [
         "0",
         "20181",
         "CC",
         "SB11201810003214",
         "URBANO",
         "N",
         "B",
         "ACADÉMICO",
         "376001002376",
         "376001002376",
         "76",
         "76001",
         "17004",
         "VALLE",
         "MIXTO",
         "COMPLETA",
         "CALI",
         "NO OFICIAL",
         "COLEGIO HISPANOAMERICANO",
         "COLEGIO HISPANOAMERICANO",
         "S",
         "76.0",
         "76001.0",
         "76.0",
         "76001.0",
         "VALLE",
         "VALLE",
         "PUBLICAR",
         "ESTUDIANTE",
         "03/07/1999",
         "F",
         "CALI",
         "CALI",
         "COLOMBIA",
         "COLOMBIA",
         "N",
         "Tres",
         "Postgrado",
         "Postgrado",
         "Estrato 5",
         "3 a 4",
         "Si",
         "Si",
         "Si",
         "Si",
         "B1",
         "78.0",
         "68.0",
         "76",
         "69",
         "67",
         "353"
        ],
        [
         "1",
         "20181",
         "CC",
         "SB11201810003214",
         "URBANO",
         "N",
         "B",
         "ACADÉMICO",
         "376001002376",
         "376001002376",
         "76",
         "76001",
         "17004",
         "VALLE",
         "MIXTO",
         "COMPLETA",
         "CALI",
         "NO OFICIAL",
         "COLEGIO HISPANOAMERICANO",
         "COLEGIO HISPANOAMERICANO",
         "S",
         "76.0",
         "76001.0",
         "76.0",
         "76001.0",
         "VALLE",
         "VALLE",
         "PUBLICAR",
         "ESTUDIANTE",
         "03/07/1999",
         "F",
         "CALI",
         "CALI",
         "COLOMBIA",
         "COLOMBIA",
         "N",
         "Tres",
         "Postgrado",
         "Postgrado",
         "Estrato 5",
         "3 a 4",
         "Si",
         "Si",
         "Si",
         "Si",
         "B1",
         "78.0",
         "68.0",
         "76",
         "69",
         "67",
         "353"
        ],
        [
         "2",
         "20181",
         "TI",
         "SB11201810043861",
         "RURAL",
         null,
         "B",
         "ACADÉMICO",
         "476520003791",
         "476520003791",
         "76",
         "76520",
         "645325",
         "VALLE",
         "MIXTO",
         "TARDE",
         "PALMIRA",
         "NO OFICIAL",
         "COLEGIO SANTA TERESITA DE ROZO",
         "COLEGIO SANTA TERESITA DE ROZO",
         "S",
         "76.0",
         "76520.0",
         "76.0",
         "76520.0",
         "VALLE",
         "VALLE",
         "PUBLICAR",
         "ESTUDIANTE",
         "16/12/2001",
         "M",
         "PALMIRA",
         "PALMIRA",
         "COLOMBIA",
         "COLOMBIA",
         "N",
         "Tres",
         "Educación profesional completa",
         "Educación profesional completa",
         "Estrato 2",
         "5 a 6",
         "Si",
         "Si",
         "Si",
         "Si",
         "A-",
         "41.0",
         "49.0",
         "41",
         "49",
         "44",
         "227"
        ],
        [
         "3",
         "20181",
         "TI",
         "SB11201810043861",
         "RURAL",
         null,
         "B",
         "ACADÉMICO",
         "476520003791",
         "476520003791",
         "76",
         "76520",
         "645325",
         "VALLE",
         "MIXTO",
         "TARDE",
         "PALMIRA",
         "NO OFICIAL",
         "COLEGIO SANTA TERESITA DE ROZO",
         "COLEGIO SANTA TERESITA DE ROZO",
         "S",
         "76.0",
         "76520.0",
         "76.0",
         "76520.0",
         "VALLE",
         "VALLE",
         "PUBLICAR",
         "ESTUDIANTE",
         "16/12/2001",
         "M",
         "PALMIRA",
         "PALMIRA",
         "COLOMBIA",
         "COLOMBIA",
         "N",
         "Tres",
         "Educación profesional completa",
         "Educación profesional completa",
         "Estrato 2",
         "5 a 6",
         "Si",
         "Si",
         "Si",
         "Si",
         "A-",
         "41.0",
         "49.0",
         "41",
         "49",
         "44",
         "227"
        ],
        [
         "4",
         "20181",
         "CC",
         "SB11201810004937",
         "RURAL",
         "N",
         "OTRO",
         "ACADÉMICO",
         "425175032542",
         "425175032542",
         "25",
         "25175",
         "79368",
         "CUNDINAMARCA",
         "MIXTO",
         "COMPLETA",
         "CHÍA",
         "NO OFICIAL",
         "COL FONTAN",
         "COL FONTAN",
         "S",
         "11.0",
         "11001.0",
         "11.0",
         "11001.0",
         "BOGOTÁ",
         "BOGOTÁ",
         "PUBLICAR",
         "ESTUDIANTE",
         "15/12/1998",
         "M",
         "BOGOTÁ D.C.",
         "BOGOTÁ D.C.",
         "COLOMBIA",
         "COLOMBIA",
         "N",
         "Tres",
         "Educación profesional completa",
         "Postgrado",
         "Estrato 4",
         "3 a 4",
         "Si",
         "Si",
         "Si",
         "Si",
         "A2",
         "59.0",
         "57.0",
         "48",
         "57",
         "55",
         "273"
        ]
       ],
       "shape": {
        "columns": 51,
        "rows": 5
       }
      },
      "text/html": [
       "<div>\n",
       "<style scoped>\n",
       "    .dataframe tbody tr th:only-of-type {\n",
       "        vertical-align: middle;\n",
       "    }\n",
       "\n",
       "    .dataframe tbody tr th {\n",
       "        vertical-align: top;\n",
       "    }\n",
       "\n",
       "    .dataframe thead th {\n",
       "        text-align: right;\n",
       "    }\n",
       "</style>\n",
       "<table border=\"1\" class=\"dataframe\">\n",
       "  <thead>\n",
       "    <tr style=\"text-align: right;\">\n",
       "      <th></th>\n",
       "      <th>periodo</th>\n",
       "      <th>estu_tipodocumento</th>\n",
       "      <th>estu_consecutivo</th>\n",
       "      <th>cole_area_ubicacion</th>\n",
       "      <th>cole_bilingue</th>\n",
       "      <th>cole_calendario</th>\n",
       "      <th>cole_caracter</th>\n",
       "      <th>cole_cod_dane_establecimiento</th>\n",
       "      <th>cole_cod_dane_sede</th>\n",
       "      <th>cole_cod_depto_ubicacion</th>\n",
       "      <th>...</th>\n",
       "      <th>fami_tienecomputador</th>\n",
       "      <th>fami_tieneinternet</th>\n",
       "      <th>fami_tienelavadora</th>\n",
       "      <th>desemp_ingles</th>\n",
       "      <th>punt_ingles</th>\n",
       "      <th>punt_matematicas</th>\n",
       "      <th>punt_sociales_ciudadanas</th>\n",
       "      <th>punt_c_naturales</th>\n",
       "      <th>punt_lectura_critica</th>\n",
       "      <th>punt_global</th>\n",
       "    </tr>\n",
       "  </thead>\n",
       "  <tbody>\n",
       "    <tr>\n",
       "      <th>0</th>\n",
       "      <td>20181</td>\n",
       "      <td>CC</td>\n",
       "      <td>SB11201810003214</td>\n",
       "      <td>URBANO</td>\n",
       "      <td>N</td>\n",
       "      <td>B</td>\n",
       "      <td>ACADÉMICO</td>\n",
       "      <td>376001002376</td>\n",
       "      <td>376001002376</td>\n",
       "      <td>76</td>\n",
       "      <td>...</td>\n",
       "      <td>Si</td>\n",
       "      <td>Si</td>\n",
       "      <td>Si</td>\n",
       "      <td>B1</td>\n",
       "      <td>78.0</td>\n",
       "      <td>68.0</td>\n",
       "      <td>76</td>\n",
       "      <td>69</td>\n",
       "      <td>67</td>\n",
       "      <td>353</td>\n",
       "    </tr>\n",
       "    <tr>\n",
       "      <th>1</th>\n",
       "      <td>20181</td>\n",
       "      <td>CC</td>\n",
       "      <td>SB11201810003214</td>\n",
       "      <td>URBANO</td>\n",
       "      <td>N</td>\n",
       "      <td>B</td>\n",
       "      <td>ACADÉMICO</td>\n",
       "      <td>376001002376</td>\n",
       "      <td>376001002376</td>\n",
       "      <td>76</td>\n",
       "      <td>...</td>\n",
       "      <td>Si</td>\n",
       "      <td>Si</td>\n",
       "      <td>Si</td>\n",
       "      <td>B1</td>\n",
       "      <td>78.0</td>\n",
       "      <td>68.0</td>\n",
       "      <td>76</td>\n",
       "      <td>69</td>\n",
       "      <td>67</td>\n",
       "      <td>353</td>\n",
       "    </tr>\n",
       "    <tr>\n",
       "      <th>2</th>\n",
       "      <td>20181</td>\n",
       "      <td>TI</td>\n",
       "      <td>SB11201810043861</td>\n",
       "      <td>RURAL</td>\n",
       "      <td>NaN</td>\n",
       "      <td>B</td>\n",
       "      <td>ACADÉMICO</td>\n",
       "      <td>476520003791</td>\n",
       "      <td>476520003791</td>\n",
       "      <td>76</td>\n",
       "      <td>...</td>\n",
       "      <td>Si</td>\n",
       "      <td>Si</td>\n",
       "      <td>Si</td>\n",
       "      <td>A-</td>\n",
       "      <td>41.0</td>\n",
       "      <td>49.0</td>\n",
       "      <td>41</td>\n",
       "      <td>49</td>\n",
       "      <td>44</td>\n",
       "      <td>227</td>\n",
       "    </tr>\n",
       "    <tr>\n",
       "      <th>3</th>\n",
       "      <td>20181</td>\n",
       "      <td>TI</td>\n",
       "      <td>SB11201810043861</td>\n",
       "      <td>RURAL</td>\n",
       "      <td>NaN</td>\n",
       "      <td>B</td>\n",
       "      <td>ACADÉMICO</td>\n",
       "      <td>476520003791</td>\n",
       "      <td>476520003791</td>\n",
       "      <td>76</td>\n",
       "      <td>...</td>\n",
       "      <td>Si</td>\n",
       "      <td>Si</td>\n",
       "      <td>Si</td>\n",
       "      <td>A-</td>\n",
       "      <td>41.0</td>\n",
       "      <td>49.0</td>\n",
       "      <td>41</td>\n",
       "      <td>49</td>\n",
       "      <td>44</td>\n",
       "      <td>227</td>\n",
       "    </tr>\n",
       "    <tr>\n",
       "      <th>4</th>\n",
       "      <td>20181</td>\n",
       "      <td>CC</td>\n",
       "      <td>SB11201810004937</td>\n",
       "      <td>RURAL</td>\n",
       "      <td>N</td>\n",
       "      <td>OTRO</td>\n",
       "      <td>ACADÉMICO</td>\n",
       "      <td>425175032542</td>\n",
       "      <td>425175032542</td>\n",
       "      <td>25</td>\n",
       "      <td>...</td>\n",
       "      <td>Si</td>\n",
       "      <td>Si</td>\n",
       "      <td>Si</td>\n",
       "      <td>A2</td>\n",
       "      <td>59.0</td>\n",
       "      <td>57.0</td>\n",
       "      <td>48</td>\n",
       "      <td>57</td>\n",
       "      <td>55</td>\n",
       "      <td>273</td>\n",
       "    </tr>\n",
       "  </tbody>\n",
       "</table>\n",
       "<p>5 rows × 51 columns</p>\n",
       "</div>"
      ],
      "text/plain": [
       "   periodo estu_tipodocumento  estu_consecutivo cole_area_ubicacion  \\\n",
       "0    20181                 CC  SB11201810003214              URBANO   \n",
       "1    20181                 CC  SB11201810003214              URBANO   \n",
       "2    20181                 TI  SB11201810043861               RURAL   \n",
       "3    20181                 TI  SB11201810043861               RURAL   \n",
       "4    20181                 CC  SB11201810004937               RURAL   \n",
       "\n",
       "  cole_bilingue cole_calendario cole_caracter  cole_cod_dane_establecimiento  \\\n",
       "0             N               B     ACADÉMICO                   376001002376   \n",
       "1             N               B     ACADÉMICO                   376001002376   \n",
       "2           NaN               B     ACADÉMICO                   476520003791   \n",
       "3           NaN               B     ACADÉMICO                   476520003791   \n",
       "4             N            OTRO     ACADÉMICO                   425175032542   \n",
       "\n",
       "   cole_cod_dane_sede  cole_cod_depto_ubicacion  ...  fami_tienecomputador  \\\n",
       "0        376001002376                        76  ...                    Si   \n",
       "1        376001002376                        76  ...                    Si   \n",
       "2        476520003791                        76  ...                    Si   \n",
       "3        476520003791                        76  ...                    Si   \n",
       "4        425175032542                        25  ...                    Si   \n",
       "\n",
       "   fami_tieneinternet fami_tienelavadora desemp_ingles punt_ingles  \\\n",
       "0                  Si                 Si            B1        78.0   \n",
       "1                  Si                 Si            B1        78.0   \n",
       "2                  Si                 Si            A-        41.0   \n",
       "3                  Si                 Si            A-        41.0   \n",
       "4                  Si                 Si            A2        59.0   \n",
       "\n",
       "  punt_matematicas punt_sociales_ciudadanas punt_c_naturales  \\\n",
       "0             68.0                       76               69   \n",
       "1             68.0                       76               69   \n",
       "2             49.0                       41               49   \n",
       "3             49.0                       41               49   \n",
       "4             57.0                       48               57   \n",
       "\n",
       "  punt_lectura_critica punt_global  \n",
       "0                   67         353  \n",
       "1                   67         353  \n",
       "2                   44         227  \n",
       "3                   44         227  \n",
       "4                   55         273  \n",
       "\n",
       "[5 rows x 51 columns]"
      ]
     },
     "execution_count": 43,
     "metadata": {},
     "output_type": "execute_result"
    }
   ],
   "source": [
    "df.head()"
   ]
  },
  {
   "cell_type": "code",
   "execution_count": 44,
   "id": "babcfe44",
   "metadata": {},
   "outputs": [
    {
     "name": "stdout",
     "output_type": "stream",
     "text": [
      "Columnas no numéricas: ['estu_tipodocumento', 'estu_consecutivo', 'cole_area_ubicacion', 'cole_bilingue', 'cole_calendario', 'cole_caracter', 'cole_depto_ubicacion', 'cole_genero', 'cole_jornada', 'cole_mcpio_ubicacion', 'cole_naturaleza', 'cole_nombre_establecimiento', 'cole_nombre_sede', 'cole_sede_principal', 'estu_depto_presentacion', 'estu_depto_reside', 'estu_estadoinvestigacion', 'estu_estudiante', 'estu_fechanacimiento', 'estu_genero', 'estu_mcpio_presentacion', 'estu_mcpio_reside', 'estu_nacionalidad', 'estu_pais_reside', 'estu_privado_libertad', 'fami_cuartoshogar', 'fami_educacionmadre', 'fami_educacionpadre', 'fami_estratovivienda', 'fami_personashogar', 'fami_tieneautomovil', 'fami_tienecomputador', 'fami_tieneinternet', 'fami_tienelavadora', 'desemp_ingles']\n",
      "Columnas numéricas: ['periodo', 'cole_cod_dane_establecimiento', 'cole_cod_dane_sede', 'cole_cod_depto_ubicacion', 'cole_cod_mcpio_ubicacion', 'cole_codigo_icfes', 'estu_cod_depto_presentacion', 'estu_cod_mcpio_presentacion', 'estu_cod_reside_depto', 'estu_cod_reside_mcpio', 'punt_ingles', 'punt_matematicas', 'punt_sociales_ciudadanas', 'punt_c_naturales', 'punt_lectura_critica', 'punt_global']\n"
     ]
    }
   ],
   "source": [
    "columnas_numericas = df.select_dtypes(include=['number']).columns.tolist()\n",
    "columnas_no_numericas = df.select_dtypes(exclude=['number']).columns.tolist()\n",
    "print(f\"Columnas no numéricas: {columnas_no_numericas}\\nColumnas numéricas: {columnas_numericas}\")"
   ]
  },
  {
   "cell_type": "code",
   "execution_count": 45,
   "id": "0349312f",
   "metadata": {},
   "outputs": [
    {
     "name": "stdout",
     "output_type": "stream",
     "text": [
      "El dataset tiene 32348 filas y 51 columnas\n",
      "\n",
      "Información del DataFrame:\n",
      "<class 'pandas.core.frame.DataFrame'>\n",
      "RangeIndex: 32348 entries, 0 to 32347\n",
      "Data columns (total 51 columns):\n",
      " #   Column                         Non-Null Count  Dtype  \n",
      "---  ------                         --------------  -----  \n",
      " 0   periodo                        32348 non-null  int64  \n",
      " 1   estu_tipodocumento             32348 non-null  object \n",
      " 2   estu_consecutivo               32348 non-null  object \n",
      " 3   cole_area_ubicacion            32348 non-null  object \n",
      " 4   cole_bilingue                  27513 non-null  object \n",
      " 5   cole_calendario                32348 non-null  object \n",
      " 6   cole_caracter                  31074 non-null  object \n",
      " 7   cole_cod_dane_establecimiento  32348 non-null  int64  \n",
      " 8   cole_cod_dane_sede             32348 non-null  int64  \n",
      " 9   cole_cod_depto_ubicacion       32348 non-null  int64  \n",
      " 10  cole_cod_mcpio_ubicacion       32348 non-null  int64  \n",
      " 11  cole_codigo_icfes              32348 non-null  int64  \n",
      " 12  cole_depto_ubicacion           32348 non-null  object \n",
      " 13  cole_genero                    32348 non-null  object \n",
      " 14  cole_jornada                   32348 non-null  object \n",
      " 15  cole_mcpio_ubicacion           32348 non-null  object \n",
      " 16  cole_naturaleza                32348 non-null  object \n",
      " 17  cole_nombre_establecimiento    32348 non-null  object \n",
      " 18  cole_nombre_sede               32348 non-null  object \n",
      " 19  cole_sede_principal            32348 non-null  object \n",
      " 20  estu_cod_depto_presentacion    32211 non-null  float64\n",
      " 21  estu_cod_mcpio_presentacion    32346 non-null  float64\n",
      " 22  estu_cod_reside_depto          32332 non-null  float64\n",
      " 23  estu_cod_reside_mcpio          32332 non-null  float64\n",
      " 24  estu_depto_presentacion        32348 non-null  object \n",
      " 25  estu_depto_reside              32332 non-null  object \n",
      " 26  estu_estadoinvestigacion       32348 non-null  object \n",
      " 27  estu_estudiante                32348 non-null  object \n",
      " 28  estu_fechanacimiento           32348 non-null  object \n",
      " 29  estu_genero                    32348 non-null  object \n",
      " 30  estu_mcpio_presentacion        32348 non-null  object \n",
      " 31  estu_mcpio_reside              32332 non-null  object \n",
      " 32  estu_nacionalidad              32348 non-null  object \n",
      " 33  estu_pais_reside               32348 non-null  object \n",
      " 34  estu_privado_libertad          32348 non-null  object \n",
      " 35  fami_cuartoshogar              31534 non-null  object \n",
      " 36  fami_educacionmadre            30605 non-null  object \n",
      " 37  fami_educacionpadre            30594 non-null  object \n",
      " 38  fami_estratovivienda           30508 non-null  object \n",
      " 39  fami_personashogar             31342 non-null  object \n",
      " 40  fami_tieneautomovil            31468 non-null  object \n",
      " 41  fami_tienecomputador           31558 non-null  object \n",
      " 42  fami_tieneinternet             30605 non-null  object \n",
      " 43  fami_tienelavadora             31581 non-null  object \n",
      " 44  desemp_ingles                  32345 non-null  object \n",
      " 45  punt_ingles                    32211 non-null  float64\n",
      " 46  punt_matematicas               32346 non-null  float64\n",
      " 47  punt_sociales_ciudadanas       32348 non-null  int64  \n",
      " 48  punt_c_naturales               32348 non-null  int64  \n",
      " 49  punt_lectura_critica           32348 non-null  int64  \n",
      " 50  punt_global                    32348 non-null  int64  \n",
      "dtypes: float64(6), int64(10), object(35)\n",
      "memory usage: 12.6+ MB\n"
     ]
    }
   ],
   "source": [
    "# Información básica del DataFrame\n",
    "print(f\"El dataset tiene {df.shape[0]} filas y {df.shape[1]} columnas\")\n",
    "print(\"\\nInformación del DataFrame:\")\n",
    "df.info()"
   ]
  },
  {
   "cell_type": "markdown",
   "id": "4708980a",
   "metadata": {},
   "source": [
    "### Limpieza y transformación"
   ]
  },
  {
   "cell_type": "code",
   "execution_count": 48,
   "id": "54668fad",
   "metadata": {},
   "outputs": [],
   "source": [
    "df_clean = df.copy()"
   ]
  },
  {
   "cell_type": "code",
   "execution_count": 47,
   "id": "62dc3245",
   "metadata": {},
   "outputs": [
    {
     "name": "stdout",
     "output_type": "stream",
     "text": [
      "Valores inesperados en 'estu_fechanacimiento':\n",
      "['ESTUDIANTE' 'PUBLICAR']\n"
     ]
    }
   ],
   "source": [
    "# Buscar valores que NO coincidan con el formato dd/mm/yyyy\n",
    "valores_raros = df[~df['estu_fechanacimiento'].astype(str).str.match(r'^\\d{2}/\\d{2}/\\d{4}$')]['estu_fechanacimiento']\n",
    "\n",
    "if not valores_raros.empty:\n",
    "    print(\"Valores inesperados en 'estu_fechanacimiento':\")\n",
    "    print(valores_raros.unique())\n",
    "else:\n",
    "    print(\"Todos los valores en 'estu_fechanacimiento' son fechas válidas.\")"
   ]
  },
  {
   "cell_type": "markdown",
   "id": "60c7bf9f",
   "metadata": {},
   "source": [
    "Situación identificada:\n",
    "\n",
    "En los registros del colegio __\"INST SER INTERNACIONAL COMUNA 17\"__, se detectó un desplazamiento de columnas hacia la derecha a partir de estu_fechanacimiento, causado muy probablemente por un error en la estructura del archivo CSV original (ej: una coma adicional o un salto de línea mal formado). Como consecuencia:\n",
    "\n",
    "Los campos de información personal (como género y municipio) estaban desplazados, haciendo que estu_genero contuviera fechas de nacimiento y estu_mcpio_presentacion contuviera géneros.\n",
    "\n",
    "Acciones tomadas:\n",
    "\n",
    "* Se reubicaron manualmente los valores en sus columnas correctas para los registros afectados.\n"
   ]
  },
  {
   "cell_type": "code",
   "execution_count": 49,
   "id": "08c4b412",
   "metadata": {},
   "outputs": [
    {
     "name": "stdout",
     "output_type": "stream",
     "text": [
      "     estu_fechanacimiento estu_genero  punt_global\n",
      "1272           25/03/1998           M           44\n",
      "1273           25/03/1998           M           44\n",
      "1607           15/11/2000           F           53\n",
      "1608           15/11/2000           F           53\n",
      "1760           04/10/2000           M           46\n"
     ]
    }
   ],
   "source": [
    "# Filtrar registros del colegio problemático\n",
    "mask = df_clean['cole_nombre_establecimiento'] == 'INST SER INTERNACIONAL COMUNA 17'\n",
    "df_problem = df_clean[mask].copy()\n",
    "\n",
    "# Corregir desplazamiento (mover todas las columnas desde 'estu_fechanacimiento' una posición a la izquierda)\n",
    "columnas_desplazadas = [\n",
    "    'estu_fechanacimiento', 'estu_genero', 'estu_mcpio_presentacion',\n",
    "    'estu_mcpio_reside', 'estu_nacionalidad', 'estu_pais_reside',\n",
    "    'estu_privado_libertad', 'fami_cuartoshogar', 'fami_educacionmadre',\n",
    "    'fami_educacionpadre', 'fami_estratovivienda', 'fami_personashogar',\n",
    "    'fami_tieneautomovil', 'fami_tienecomputador', 'fami_tieneinternet',\n",
    "    'fami_tienelavadora', 'desemp_ingles']\n",
    "\n",
    "# Mover cada columna una posición a la izquierda\n",
    "for i in range(len(columnas_desplazadas) - 1):\n",
    "    df_problem[columnas_desplazadas[i]] = df_problem[columnas_desplazadas[i+1]]\n",
    "\n",
    "# # Asignar NaN a la última columna desplazada (punt_global ya no tiene dato original)\n",
    "# df_problem['punt_global'] = np.nan\n",
    "\n",
    "# Reemplazar los registros corregidos en el DataFrame original\n",
    "df_clean[mask] = df_problem\n",
    "\n",
    "# Verificar corrección\n",
    "print(df_clean[mask][['estu_fechanacimiento', 'estu_genero', 'punt_global']].head())"
   ]
  },
  {
   "cell_type": "code",
   "execution_count": 50,
   "id": "9ae169ab",
   "metadata": {},
   "outputs": [],
   "source": [
    "df_clean['estu_fechanacimiento'] = pd.to_datetime(\n",
    "    df_clean['estu_fechanacimiento'], \n",
    "    format='%d/%m/%Y',  \n",
    "    errors='coerce'\n",
    ")"
   ]
  },
  {
   "cell_type": "code",
   "execution_count": 51,
   "id": "85d9154a",
   "metadata": {},
   "outputs": [
    {
     "data": {
      "application/vnd.microsoft.datawrangler.viewer.v0+json": {
       "columns": [
        {
         "name": "index",
         "rawType": "int64",
         "type": "integer"
        },
        {
         "name": "periodo",
         "rawType": "int64",
         "type": "integer"
        },
        {
         "name": "estu_tipodocumento",
         "rawType": "object",
         "type": "string"
        },
        {
         "name": "estu_consecutivo",
         "rawType": "object",
         "type": "string"
        },
        {
         "name": "cole_area_ubicacion",
         "rawType": "object",
         "type": "string"
        },
        {
         "name": "cole_bilingue",
         "rawType": "object",
         "type": "unknown"
        },
        {
         "name": "cole_calendario",
         "rawType": "object",
         "type": "string"
        },
        {
         "name": "cole_caracter",
         "rawType": "object",
         "type": "unknown"
        },
        {
         "name": "cole_cod_dane_establecimiento",
         "rawType": "int64",
         "type": "integer"
        },
        {
         "name": "cole_cod_dane_sede",
         "rawType": "int64",
         "type": "integer"
        },
        {
         "name": "cole_cod_depto_ubicacion",
         "rawType": "int64",
         "type": "integer"
        },
        {
         "name": "cole_cod_mcpio_ubicacion",
         "rawType": "int64",
         "type": "integer"
        },
        {
         "name": "cole_codigo_icfes",
         "rawType": "int64",
         "type": "integer"
        },
        {
         "name": "cole_depto_ubicacion",
         "rawType": "object",
         "type": "string"
        },
        {
         "name": "cole_genero",
         "rawType": "object",
         "type": "string"
        },
        {
         "name": "cole_jornada",
         "rawType": "object",
         "type": "string"
        },
        {
         "name": "cole_mcpio_ubicacion",
         "rawType": "object",
         "type": "string"
        },
        {
         "name": "cole_naturaleza",
         "rawType": "object",
         "type": "string"
        },
        {
         "name": "cole_nombre_establecimiento",
         "rawType": "object",
         "type": "string"
        },
        {
         "name": "cole_nombre_sede",
         "rawType": "object",
         "type": "string"
        },
        {
         "name": "cole_sede_principal",
         "rawType": "object",
         "type": "string"
        },
        {
         "name": "estu_cod_depto_presentacion",
         "rawType": "float64",
         "type": "float"
        },
        {
         "name": "estu_cod_mcpio_presentacion",
         "rawType": "float64",
         "type": "float"
        },
        {
         "name": "estu_cod_reside_depto",
         "rawType": "float64",
         "type": "float"
        },
        {
         "name": "estu_cod_reside_mcpio",
         "rawType": "float64",
         "type": "float"
        },
        {
         "name": "estu_depto_presentacion",
         "rawType": "object",
         "type": "string"
        },
        {
         "name": "estu_depto_reside",
         "rawType": "object",
         "type": "string"
        },
        {
         "name": "estu_estadoinvestigacion",
         "rawType": "object",
         "type": "string"
        },
        {
         "name": "estu_estudiante",
         "rawType": "object",
         "type": "string"
        },
        {
         "name": "estu_fechanacimiento",
         "rawType": "datetime64[ns]",
         "type": "datetime"
        },
        {
         "name": "estu_genero",
         "rawType": "object",
         "type": "string"
        },
        {
         "name": "estu_mcpio_presentacion",
         "rawType": "object",
         "type": "string"
        },
        {
         "name": "estu_mcpio_reside",
         "rawType": "object",
         "type": "string"
        },
        {
         "name": "estu_nacionalidad",
         "rawType": "object",
         "type": "string"
        },
        {
         "name": "estu_pais_reside",
         "rawType": "object",
         "type": "string"
        },
        {
         "name": "estu_privado_libertad",
         "rawType": "object",
         "type": "string"
        },
        {
         "name": "fami_cuartoshogar",
         "rawType": "object",
         "type": "string"
        },
        {
         "name": "fami_educacionmadre",
         "rawType": "object",
         "type": "string"
        },
        {
         "name": "fami_educacionpadre",
         "rawType": "object",
         "type": "string"
        },
        {
         "name": "fami_estratovivienda",
         "rawType": "object",
         "type": "string"
        },
        {
         "name": "fami_personashogar",
         "rawType": "object",
         "type": "string"
        },
        {
         "name": "fami_tieneautomovil",
         "rawType": "object",
         "type": "string"
        },
        {
         "name": "fami_tienecomputador",
         "rawType": "object",
         "type": "string"
        },
        {
         "name": "fami_tieneinternet",
         "rawType": "object",
         "type": "string"
        },
        {
         "name": "fami_tienelavadora",
         "rawType": "object",
         "type": "string"
        },
        {
         "name": "desemp_ingles",
         "rawType": "object",
         "type": "string"
        },
        {
         "name": "punt_ingles",
         "rawType": "float64",
         "type": "float"
        },
        {
         "name": "punt_matematicas",
         "rawType": "float64",
         "type": "float"
        },
        {
         "name": "punt_sociales_ciudadanas",
         "rawType": "int64",
         "type": "integer"
        },
        {
         "name": "punt_c_naturales",
         "rawType": "int64",
         "type": "integer"
        },
        {
         "name": "punt_lectura_critica",
         "rawType": "int64",
         "type": "integer"
        },
        {
         "name": "punt_global",
         "rawType": "int64",
         "type": "integer"
        }
       ],
       "conversionMethod": "pd.DataFrame",
       "ref": "5821ac6e-cba4-4831-b999-f5fac9d82f8a",
       "rows": [
        [
         "21371",
         "20181",
         "TI",
         "SB11201810008367",
         "URBANO",
         "N",
         "B",
         null,
         "376001043897",
         "376001043897",
         "76",
         "76001",
         "197970",
         "VALLE",
         "MIXTO",
         "MAÑANA",
         "CALI",
         "NO OFICIAL",
         "ESCUELA DE GESTION Y FORMACION EMPRESARIAL",
         "ESCUELA DE GESTION Y FORMACION EMPRESARIAL - SEDE PRINCIPAL",
         "S",
         "76.0",
         "76001.0",
         "76.0",
         "76001.0",
         "VALLE",
         "VALLE",
         "PUBLICAR",
         "ESTUDIANTE",
         null,
         "M",
         "CALI",
         "CALI",
         "COLOMBIA",
         "COLOMBIA",
         "N",
         "Seis o mas",
         "Técnica o tecnológica completa",
         "Educación profesional completa",
         "Estrato 4",
         "9 o más",
         "Si",
         "Si",
         "Si",
         "Si",
         "A1",
         "49.0",
         "42.0",
         "45",
         "37",
         "46",
         "215"
        ],
        [
         "23573",
         "20181",
         "CC",
         "SB11201810010858",
         "URBANO",
         null,
         "A",
         "ACADÉMICO",
         "317174000755",
         "317174000755",
         "17",
         "17174",
         "130658",
         "CALDAS",
         "MIXTO",
         "SABATINA",
         "CHINCHINÁ",
         "NO OFICIAL",
         "COLEGIO CEVAL - (CON ESFUERZO  VALOR  ALEGRÍA Y LUCHA)",
         "\"COLEGIO CEVAL - (CON ESFUERZO",
         " VALOR",
         null,
         null,
         "17.0",
         "17001.0",
         "17",
         "17174",
         "CALDAS",
         "CALDAS",
         null,
         "ESTUDIANTE",
         "27/01/1989",
         "F",
         "MANIZALES",
         "CHINCHINÁ",
         "COLOMBIA",
         "COLOMBIA",
         "N",
         "Tres",
         "Primaria incompleta",
         "Primaria incompleta",
         "Estrato 2",
         "3 a 4",
         "No",
         "Si",
         "Si",
         null,
         null,
         "46",
         "38",
         "55",
         "52"
        ],
        [
         "27074",
         "20181",
         "CC",
         "SB11201810010855",
         "URBANO",
         null,
         "A",
         "ACADÉMICO",
         "317174000755",
         "317174000755",
         "17",
         "17174",
         "130658",
         "CALDAS",
         "MIXTO",
         "SABATINA",
         "CHINCHINÁ",
         "NO OFICIAL",
         "COLEGIO CEVAL - (CON ESFUERZO  VALOR  ALEGRÍA Y LUCHA)",
         "\"COLEGIO CEVAL - (CON ESFUERZO",
         " VALOR",
         null,
         null,
         "17.0",
         "17001.0",
         "17",
         "17174",
         "CALDAS",
         "CALDAS",
         null,
         "ESTUDIANTE",
         "10/08/1997",
         "F",
         "MANIZALES",
         "CHINCHINÁ",
         "COLOMBIA",
         "COLOMBIA",
         "N",
         "Tres",
         "Primaria completa",
         "Técnica o tecnológica completa",
         "Estrato 2",
         "3 a 4",
         "No",
         "Si",
         "Si",
         null,
         null,
         "40",
         "29",
         "48",
         "46"
        ],
        [
         "30772",
         "20181",
         "TI",
         "SB11201810014960",
         "URBANO",
         "S",
         "B",
         "ACADÉMICO",
         "311769003474",
         "311769003474",
         "11",
         "11001",
         "19349",
         "BOGOTA",
         "MIXTO",
         "COMPLETA",
         "BOGOTÁ D.C.",
         "NO OFICIAL",
         "COL ANDINO",
         "COL ANDINO",
         "S",
         "11.0",
         "11001.0",
         "11.0",
         "11001.0",
         "BOGOTÁ",
         "BOGOTÁ",
         "PUBLICAR",
         "ESTUDIANTE",
         null,
         "M",
         "BOGOTÁ D.C.",
         "BOGOTÁ D.C.",
         "COLOMBIA",
         "COLOMBIA",
         "N",
         "Tres",
         "Postgrado",
         "Postgrado",
         "Estrato 5",
         "3 a 4",
         "Si",
         "Si",
         "Si",
         "Si",
         "B+",
         "81.0",
         "100.0",
         "70",
         "76",
         "76",
         "403"
        ],
        [
         "30773",
         "20181",
         "TI",
         "SB11201810014960",
         "URBANO",
         "S",
         "B",
         "ACADÉMICO",
         "311769003474",
         "311769003474",
         "11",
         "11001",
         "19349",
         "BOGOTA",
         "MIXTO",
         "COMPLETA",
         "BOGOTÁ D.C.",
         "NO OFICIAL",
         "COL ANDINO",
         "COL ANDINO",
         "S",
         "11.0",
         "11001.0",
         "11.0",
         "11001.0",
         "BOGOTÁ",
         "BOGOTÁ",
         "PUBLICAR",
         "ESTUDIANTE",
         null,
         "M",
         "BOGOTÁ D.C.",
         "BOGOTÁ D.C.",
         "COLOMBIA",
         "COLOMBIA",
         "N",
         "Tres",
         "Postgrado",
         "Postgrado",
         "Estrato 5",
         "3 a 4",
         "Si",
         "Si",
         "Si",
         "Si",
         "B+",
         "81.0",
         "100.0",
         "70",
         "76",
         "76",
         "403"
        ]
       ],
       "shape": {
        "columns": 51,
        "rows": 5
       }
      },
      "text/html": [
       "<div>\n",
       "<style scoped>\n",
       "    .dataframe tbody tr th:only-of-type {\n",
       "        vertical-align: middle;\n",
       "    }\n",
       "\n",
       "    .dataframe tbody tr th {\n",
       "        vertical-align: top;\n",
       "    }\n",
       "\n",
       "    .dataframe thead th {\n",
       "        text-align: right;\n",
       "    }\n",
       "</style>\n",
       "<table border=\"1\" class=\"dataframe\">\n",
       "  <thead>\n",
       "    <tr style=\"text-align: right;\">\n",
       "      <th></th>\n",
       "      <th>periodo</th>\n",
       "      <th>estu_tipodocumento</th>\n",
       "      <th>estu_consecutivo</th>\n",
       "      <th>cole_area_ubicacion</th>\n",
       "      <th>cole_bilingue</th>\n",
       "      <th>cole_calendario</th>\n",
       "      <th>cole_caracter</th>\n",
       "      <th>cole_cod_dane_establecimiento</th>\n",
       "      <th>cole_cod_dane_sede</th>\n",
       "      <th>cole_cod_depto_ubicacion</th>\n",
       "      <th>...</th>\n",
       "      <th>fami_tienecomputador</th>\n",
       "      <th>fami_tieneinternet</th>\n",
       "      <th>fami_tienelavadora</th>\n",
       "      <th>desemp_ingles</th>\n",
       "      <th>punt_ingles</th>\n",
       "      <th>punt_matematicas</th>\n",
       "      <th>punt_sociales_ciudadanas</th>\n",
       "      <th>punt_c_naturales</th>\n",
       "      <th>punt_lectura_critica</th>\n",
       "      <th>punt_global</th>\n",
       "    </tr>\n",
       "  </thead>\n",
       "  <tbody>\n",
       "    <tr>\n",
       "      <th>21371</th>\n",
       "      <td>20181</td>\n",
       "      <td>TI</td>\n",
       "      <td>SB11201810008367</td>\n",
       "      <td>URBANO</td>\n",
       "      <td>N</td>\n",
       "      <td>B</td>\n",
       "      <td>NaN</td>\n",
       "      <td>376001043897</td>\n",
       "      <td>376001043897</td>\n",
       "      <td>76</td>\n",
       "      <td>...</td>\n",
       "      <td>Si</td>\n",
       "      <td>Si</td>\n",
       "      <td>Si</td>\n",
       "      <td>A1</td>\n",
       "      <td>49.0</td>\n",
       "      <td>42.0</td>\n",
       "      <td>45</td>\n",
       "      <td>37</td>\n",
       "      <td>46</td>\n",
       "      <td>215</td>\n",
       "    </tr>\n",
       "    <tr>\n",
       "      <th>23573</th>\n",
       "      <td>20181</td>\n",
       "      <td>CC</td>\n",
       "      <td>SB11201810010858</td>\n",
       "      <td>URBANO</td>\n",
       "      <td>NaN</td>\n",
       "      <td>A</td>\n",
       "      <td>ACADÉMICO</td>\n",
       "      <td>317174000755</td>\n",
       "      <td>317174000755</td>\n",
       "      <td>17</td>\n",
       "      <td>...</td>\n",
       "      <td>3 a 4</td>\n",
       "      <td>No</td>\n",
       "      <td>Si</td>\n",
       "      <td>Si</td>\n",
       "      <td>NaN</td>\n",
       "      <td>NaN</td>\n",
       "      <td>46</td>\n",
       "      <td>38</td>\n",
       "      <td>55</td>\n",
       "      <td>52</td>\n",
       "    </tr>\n",
       "    <tr>\n",
       "      <th>27074</th>\n",
       "      <td>20181</td>\n",
       "      <td>CC</td>\n",
       "      <td>SB11201810010855</td>\n",
       "      <td>URBANO</td>\n",
       "      <td>NaN</td>\n",
       "      <td>A</td>\n",
       "      <td>ACADÉMICO</td>\n",
       "      <td>317174000755</td>\n",
       "      <td>317174000755</td>\n",
       "      <td>17</td>\n",
       "      <td>...</td>\n",
       "      <td>3 a 4</td>\n",
       "      <td>No</td>\n",
       "      <td>Si</td>\n",
       "      <td>Si</td>\n",
       "      <td>NaN</td>\n",
       "      <td>NaN</td>\n",
       "      <td>40</td>\n",
       "      <td>29</td>\n",
       "      <td>48</td>\n",
       "      <td>46</td>\n",
       "    </tr>\n",
       "    <tr>\n",
       "      <th>30772</th>\n",
       "      <td>20181</td>\n",
       "      <td>TI</td>\n",
       "      <td>SB11201810014960</td>\n",
       "      <td>URBANO</td>\n",
       "      <td>S</td>\n",
       "      <td>B</td>\n",
       "      <td>ACADÉMICO</td>\n",
       "      <td>311769003474</td>\n",
       "      <td>311769003474</td>\n",
       "      <td>11</td>\n",
       "      <td>...</td>\n",
       "      <td>Si</td>\n",
       "      <td>Si</td>\n",
       "      <td>Si</td>\n",
       "      <td>B+</td>\n",
       "      <td>81.0</td>\n",
       "      <td>100.0</td>\n",
       "      <td>70</td>\n",
       "      <td>76</td>\n",
       "      <td>76</td>\n",
       "      <td>403</td>\n",
       "    </tr>\n",
       "    <tr>\n",
       "      <th>30773</th>\n",
       "      <td>20181</td>\n",
       "      <td>TI</td>\n",
       "      <td>SB11201810014960</td>\n",
       "      <td>URBANO</td>\n",
       "      <td>S</td>\n",
       "      <td>B</td>\n",
       "      <td>ACADÉMICO</td>\n",
       "      <td>311769003474</td>\n",
       "      <td>311769003474</td>\n",
       "      <td>11</td>\n",
       "      <td>...</td>\n",
       "      <td>Si</td>\n",
       "      <td>Si</td>\n",
       "      <td>Si</td>\n",
       "      <td>B+</td>\n",
       "      <td>81.0</td>\n",
       "      <td>100.0</td>\n",
       "      <td>70</td>\n",
       "      <td>76</td>\n",
       "      <td>76</td>\n",
       "      <td>403</td>\n",
       "    </tr>\n",
       "  </tbody>\n",
       "</table>\n",
       "<p>5 rows × 51 columns</p>\n",
       "</div>"
      ],
      "text/plain": [
       "       periodo estu_tipodocumento  estu_consecutivo cole_area_ubicacion  \\\n",
       "21371    20181                 TI  SB11201810008367              URBANO   \n",
       "23573    20181                 CC  SB11201810010858              URBANO   \n",
       "27074    20181                 CC  SB11201810010855              URBANO   \n",
       "30772    20181                 TI  SB11201810014960              URBANO   \n",
       "30773    20181                 TI  SB11201810014960              URBANO   \n",
       "\n",
       "      cole_bilingue cole_calendario cole_caracter  \\\n",
       "21371             N               B           NaN   \n",
       "23573           NaN               A     ACADÉMICO   \n",
       "27074           NaN               A     ACADÉMICO   \n",
       "30772             S               B     ACADÉMICO   \n",
       "30773             S               B     ACADÉMICO   \n",
       "\n",
       "       cole_cod_dane_establecimiento  cole_cod_dane_sede  \\\n",
       "21371                   376001043897        376001043897   \n",
       "23573                   317174000755        317174000755   \n",
       "27074                   317174000755        317174000755   \n",
       "30772                   311769003474        311769003474   \n",
       "30773                   311769003474        311769003474   \n",
       "\n",
       "       cole_cod_depto_ubicacion  ...  fami_tienecomputador  \\\n",
       "21371                        76  ...                    Si   \n",
       "23573                        17  ...                 3 a 4   \n",
       "27074                        17  ...                 3 a 4   \n",
       "30772                        11  ...                    Si   \n",
       "30773                        11  ...                    Si   \n",
       "\n",
       "       fami_tieneinternet fami_tienelavadora desemp_ingles punt_ingles  \\\n",
       "21371                  Si                 Si            A1        49.0   \n",
       "23573                  No                 Si            Si         NaN   \n",
       "27074                  No                 Si            Si         NaN   \n",
       "30772                  Si                 Si            B+        81.0   \n",
       "30773                  Si                 Si            B+        81.0   \n",
       "\n",
       "      punt_matematicas punt_sociales_ciudadanas punt_c_naturales  \\\n",
       "21371             42.0                       45               37   \n",
       "23573              NaN                       46               38   \n",
       "27074              NaN                       40               29   \n",
       "30772            100.0                       70               76   \n",
       "30773            100.0                       70               76   \n",
       "\n",
       "      punt_lectura_critica punt_global  \n",
       "21371                   46         215  \n",
       "23573                   55          52  \n",
       "27074                   48          46  \n",
       "30772                   76         403  \n",
       "30773                   76         403  \n",
       "\n",
       "[5 rows x 51 columns]"
      ]
     },
     "execution_count": 51,
     "metadata": {},
     "output_type": "execute_result"
    }
   ],
   "source": [
    "fechas_invalidas_df = df_clean[df_clean['estu_fechanacimiento'].isna()]\n",
    "fechas_invalidas_df.head()"
   ]
  },
  {
   "cell_type": "code",
   "execution_count": null,
   "id": "2402bc7f",
   "metadata": {},
   "outputs": [],
   "source": [
    "# Extraer año y semestre de 'periodo'\n",
    "df_clean['semestre_prueba'] = df_clean['periodo'].astype(str).str[-1].astype(int)"
   ]
  },
  {
   "cell_type": "code",
   "execution_count": null,
   "id": "1d8e829d",
   "metadata": {},
   "outputs": [],
   "source": [
    "df_clean.head()"
   ]
  },
  {
   "cell_type": "markdown",
   "id": "d4cce599",
   "metadata": {},
   "source": [
    "### Nulos"
   ]
  },
  {
   "cell_type": "markdown",
   "id": "5eddaaf8",
   "metadata": {},
   "source": [
    "#### Identificación"
   ]
  },
  {
   "cell_type": "code",
   "execution_count": 6,
   "id": "e7d82671",
   "metadata": {},
   "outputs": [
    {
     "name": "stdout",
     "output_type": "stream",
     "text": [
      "Valores nulos por columna:\n",
      "periodo                             0\n",
      "estu_tipodocumento                  0\n",
      "estu_consecutivo                    0\n",
      "cole_area_ubicacion                 0\n",
      "cole_bilingue                    4835\n",
      "cole_calendario                     0\n",
      "cole_caracter                    1274\n",
      "cole_cod_dane_establecimiento       0\n",
      "cole_cod_dane_sede                  0\n",
      "cole_cod_depto_ubicacion            0\n",
      "cole_cod_mcpio_ubicacion            0\n",
      "cole_codigo_icfes                   0\n",
      "cole_depto_ubicacion                0\n",
      "cole_genero                         0\n",
      "cole_jornada                        0\n",
      "cole_mcpio_ubicacion                0\n",
      "cole_naturaleza                     0\n",
      "cole_nombre_establecimiento         0\n",
      "cole_nombre_sede                    0\n",
      "cole_sede_principal                 0\n",
      "estu_cod_depto_presentacion       137\n",
      "estu_cod_mcpio_presentacion         2\n",
      "estu_cod_reside_depto              16\n",
      "estu_cod_reside_mcpio              16\n",
      "estu_depto_presentacion             0\n",
      "estu_depto_reside                  16\n",
      "estu_estadoinvestigacion            0\n",
      "estu_estudiante                     0\n",
      "estu_fechanacimiento                0\n",
      "estu_genero                         0\n",
      "estu_mcpio_presentacion             0\n",
      "estu_mcpio_reside                  16\n",
      "estu_nacionalidad                   0\n",
      "estu_pais_reside                    0\n",
      "estu_privado_libertad               0\n",
      "fami_cuartoshogar                 814\n",
      "fami_educacionmadre              1743\n",
      "fami_educacionpadre              1754\n",
      "fami_estratovivienda             1840\n",
      "fami_personashogar               1006\n",
      "fami_tieneautomovil               880\n",
      "fami_tienecomputador              790\n",
      "fami_tieneinternet               1743\n",
      "fami_tienelavadora                767\n",
      "desemp_ingles                       3\n",
      "punt_ingles                       137\n",
      "punt_matematicas                    2\n",
      "punt_sociales_ciudadanas            0\n",
      "punt_c_naturales                    0\n",
      "punt_lectura_critica                0\n",
      "punt_global                         0\n",
      "dtype: int64\n"
     ]
    }
   ],
   "source": [
    "nulos_por_columna = df.isnull().sum()\n",
    "print(\"Valores nulos por columna:\")\n",
    "print(nulos_por_columna)"
   ]
  },
  {
   "cell_type": "code",
   "execution_count": 7,
   "id": "baaf3716",
   "metadata": {},
   "outputs": [
    {
     "name": "stdout",
     "output_type": "stream",
     "text": [
      "\n",
      "Porcentaje de valores faltantes por columna:\n",
      "cole_bilingue                  14.946828\n",
      "fami_estratovivienda            5.688141\n",
      "fami_educacionpadre             5.422283\n",
      "fami_educacionmadre             5.388277\n",
      "fami_tieneinternet              5.388277\n",
      "cole_caracter                   3.938420\n",
      "fami_personashogar              3.109930\n",
      "fami_tieneautomovil             2.720415\n",
      "fami_cuartoshogar               2.516384\n",
      "fami_tienecomputador            2.442191\n",
      "fami_tienelavadora              2.371089\n",
      "estu_cod_depto_presentacion     0.423519\n",
      "punt_ingles                     0.423519\n",
      "estu_cod_reside_depto           0.049462\n",
      "estu_depto_reside               0.049462\n",
      "estu_mcpio_reside               0.049462\n",
      "estu_cod_reside_mcpio           0.049462\n",
      "desemp_ingles                   0.009274\n",
      "estu_cod_mcpio_presentacion     0.006183\n",
      "punt_matematicas                0.006183\n",
      "dtype: float64\n"
     ]
    }
   ],
   "source": [
    "# Porcentaje de valores faltantes por columna\n",
    "missing_values = df.isnull().mean() * 100\n",
    "missing_values = missing_values[missing_values > 0].sort_values(ascending=False)\n",
    "\n",
    "print(\"\\nPorcentaje de valores faltantes por columna:\")\n",
    "print(missing_values)\n"
   ]
  },
  {
   "cell_type": "markdown",
   "id": "ae1e2711",
   "metadata": {},
   "source": [
    "#### Manejo"
   ]
  },
  {
   "cell_type": "markdown",
   "id": "66cb5f0b",
   "metadata": {},
   "source": [
    "__Alternativa 1__ \n",
    "* Para variables categóricas: Imputar la moda\n",
    "* Para variables numéricas: Imputar la media"
   ]
  },
  {
   "cell_type": "code",
   "execution_count": 9,
   "id": "a7b357c0",
   "metadata": {},
   "outputs": [],
   "source": [
    "# # Imputar valores faltantes en columnas categóricas\n",
    "# for col in columnas_no_numericas:\n",
    "#     if df_clean[col].isnull().any():\n",
    "#         mode_val = df_clean[col].mode()[0]\n",
    "#         df_clean[col].fillna(mode_val, inplace=True)\n",
    "\n",
    "# # Imputar valores faltantes en columnas numéricas\n",
    "# for col in columnas_numericas:\n",
    "#     if df_clean[col].isnull().any():\n",
    "#         median_val = df_clean[col].median()\n",
    "#         df_clean[col].fillna(median_val, inplace=True)\n",
    "\n",
    "# # Verificar que no quedan valores faltantes\n",
    "# print(\"\\nValores faltantes después de la limpieza:\")\n",
    "# print(df_clean.isnull().sum().sum())"
   ]
  },
  {
   "cell_type": "markdown",
   "id": "ef783006",
   "metadata": {},
   "source": [
    "__Alternativa 2__\n",
    "* Para variables categóricas: Reemplazar nulos por \"Desconocido\"\n",
    "* Para variables numéricas: Mantener los nulos"
   ]
  },
  {
   "cell_type": "code",
   "execution_count": 10,
   "id": "8bc4d17f",
   "metadata": {},
   "outputs": [],
   "source": [
    "df_clean[columnas_no_numericas] = df_clean[columnas_no_numericas].fillna('Desconocido')"
   ]
  },
  {
   "cell_type": "markdown",
   "id": "6187095b",
   "metadata": {},
   "source": [
    "Se prefiere la alternativa 2 pues:  \n",
    "\n",
    "En este estudio de los resultados Saber 11, preservar los nulos en variables numéricas (como puntajes) evita distorsionar métricas clave, ya que estos valores faltantes podrían reflejar casos reales (ej: estudiantes que no presentaron una prueba específica). Para las categóricas, usar \"Desconocido\" en lugar de la moda es más transparente: diferencia claramente entre datos no reportados (que pueden ser significativos para análisis socioeducativos) y categorías genuinas. Este enfoque mantiene la integridad estadística de los puntajes numéricos sin perder información valiosa en las categóricas, crucial para un análisis educativo donde el contexto importa."
   ]
  },
  {
   "cell_type": "code",
   "execution_count": 11,
   "id": "8d3b1571",
   "metadata": {},
   "outputs": [
    {
     "name": "stdout",
     "output_type": "stream",
     "text": [
      "\n",
      "Resumen de nulos después de limpieza:\n",
      "estu_cod_depto_presentacion    137\n",
      "estu_cod_mcpio_presentacion      2\n",
      "estu_cod_reside_depto           16\n",
      "estu_cod_reside_mcpio           16\n",
      "punt_ingles                    137\n",
      "punt_matematicas                 2\n",
      "dtype: int64\n"
     ]
    }
   ],
   "source": [
    "print(\"\\nResumen de nulos después de limpieza:\")\n",
    "print(df_clean.isnull().sum()[df_clean.isnull().sum() > 0])"
   ]
  },
  {
   "cell_type": "markdown",
   "id": "4d03aab1",
   "metadata": {},
   "source": [
    "Ante estos resultados de nulos remanentes parece tentador eliminar dichas filas pues:  \n",
    "\n",
    "Dado que se tienen 32348 filas en total, estos son los porcentajes de nulos por columna problemática:\n",
    "\n",
    "_estu_cod_depto_presentacion_: 137 nulos (0.42% del total)  \n",
    "_estu_cod_mcpio_presentacion_: 2 nulos (0.006%)  \n",
    "_estu_cod_reside_depto_$/mcpio: 16 nulos cada una (0.05%)  \n",
    "_punt_ingles_: 137 nulos (0.42%)  \n",
    "_punt_matematicas_: 2 nulos (0.006%)  "
   ]
  },
  {
   "cell_type": "code",
   "execution_count": 12,
   "id": "37ab7645",
   "metadata": {},
   "outputs": [
    {
     "name": "stdout",
     "output_type": "stream",
     "text": [
      "\n",
      "\t DISTRIBUCIÓN GEOGRÁFICA (punt_ingles) \t\n",
      "Top 3 departamentos con nulos:\n",
      "cole_depto_ubicacion\n",
      "VALLE     0.985401\n",
      "CALDAS    0.014599\n",
      "Name: proportion, dtype: float64\n",
      "\n",
      "Distribución general (dataset completo):\n",
      "cole_depto_ubicacion\n",
      "VALLE           0.437956\n",
      "BOGOTA          0.231575\n",
      "CUNDINAMARCA    0.066032\n",
      "Name: proportion, dtype: float64\n",
      "\n",
      "\t ÁREA URBANA/RURAL \n",
      "Proporción en nulos vs total:\n",
      "Nulos: cole_area_ubicacion\n",
      "URBANO    1.0\n",
      "Name: proportion, dtype: float64\n",
      "Total: cole_area_ubicacion\n",
      "URBANO    0.873037\n",
      "RURAL     0.126963\n",
      "Name: proportion, dtype: float64\n",
      "\n",
      "\t RENDIMIENTO ACADÉMICO \n",
      "Puntaje global promedio (nulos): 49.6\n",
      "Puntaje global promedio (total): 299.1\n",
      "\n",
      "\t CRUCE CON OTRAS VARIABLES \n",
      "Registros con nulos en punt_matematicas: 2\n",
      "Distribución por tipo de colegio:\n",
      "cole_naturaleza\n",
      "NO OFICIAL    1.0\n",
      "Name: proportion, dtype: float64\n"
     ]
    }
   ],
   "source": [
    "# Filtrar filas con nulos\n",
    "nulos_ingles = df_clean[df_clean['punt_ingles'].isnull()]\n",
    "\n",
    "# Distribución por departamento del colegio\n",
    "print(\"\\n\\t DISTRIBUCIÓN GEOGRÁFICA (punt_ingles) \\t\")\n",
    "print(\"Top 3 departamentos con nulos:\")\n",
    "print(nulos_ingles['cole_depto_ubicacion'].value_counts(normalize=True).head(3))\n",
    "print(\"\\nDistribución general (dataset completo):\")\n",
    "print(df_clean['cole_depto_ubicacion'].value_counts(normalize=True).head(3))\n",
    "\n",
    "# Relación con área urbana/rural\n",
    "print(\"\\n\\t ÁREA URBANA/RURAL \")\n",
    "print(\"Proporción en nulos vs total:\")\n",
    "print(\"Nulos:\", nulos_ingles['cole_area_ubicacion'].value_counts(normalize=True))\n",
    "print(\"Total:\", df_clean['cole_area_ubicacion'].value_counts(normalize=True))\n",
    "\n",
    "# Rendimiento académico asociado\n",
    "print(\"\\n\\t RENDIMIENTO ACADÉMICO \")\n",
    "print(f\"Puntaje global promedio (nulos): {nulos_ingles['punt_global'].mean():.1f}\")\n",
    "print(f\"Puntaje global promedio (total): {df_clean['punt_global'].mean():.1f}\")\n",
    "\n",
    "# Solapamiento con otras columnas\n",
    "print(\"\\n\\t CRUCE CON OTRAS VARIABLES \")\n",
    "print(\"Registros con nulos en punt_matematicas:\", \n",
    "      len(nulos_ingles[nulos_ingles['punt_matematicas'].isnull()]))\n",
    "print(\"Distribución por tipo de colegio:\")\n",
    "print(nulos_ingles['cole_naturaleza'].value_counts(normalize=True))"
   ]
  },
  {
   "cell_type": "code",
   "execution_count": 13,
   "id": "c37c150c",
   "metadata": {},
   "outputs": [
    {
     "name": "stdout",
     "output_type": "stream",
     "text": [
      "\n",
      "\t DISTRIBUCIÓN GEOGRÁFICA \n",
      "Top 3 departamentos (cole_depto_ubicacion) con nulos:\n",
      "cole_depto_ubicacion\n",
      "VALLE     0.985401\n",
      "CALDAS    0.014599\n",
      "Name: proportion, dtype: float64\n",
      "\n",
      "Distribución general (dataset completo):\n",
      "cole_depto_ubicacion\n",
      "VALLE           0.437956\n",
      "BOGOTA          0.231575\n",
      "CUNDINAMARCA    0.066032\n",
      "Name: proportion, dtype: float64\n",
      "\n",
      "\t ÁREA URBANA/RURAL \n",
      "Proporción en nulos vs total:\n",
      "Nulos: cole_area_ubicacion\n",
      "URBANO    1.0\n",
      "Name: proportion, dtype: float64\n",
      "Total: cole_area_ubicacion\n",
      "URBANO    0.873037\n",
      "RURAL     0.126963\n",
      "Name: proportion, dtype: float64\n",
      "\n",
      "\t SOLAPAMIENTO CON MUNICIPIO \n",
      "Registros con nulos en DEPTO y MUNICIPIO: 2/137\n"
     ]
    }
   ],
   "source": [
    "# Filtrar filas con nulos\n",
    "nulos_depto = df_clean[df_clean['estu_cod_depto_presentacion'].isnull()]\n",
    "\n",
    "# Distribución por departamento del colegio\n",
    "print(\"\\n\\t DISTRIBUCIÓN GEOGRÁFICA \")\n",
    "print(\"Top 3 departamentos (cole_depto_ubicacion) con nulos:\")\n",
    "print(nulos_depto['cole_depto_ubicacion'].value_counts(normalize=True).head(3))\n",
    "\n",
    "# Comparación con distribución general\n",
    "print(\"\\nDistribución general (dataset completo):\")\n",
    "print(df_clean['cole_depto_ubicacion'].value_counts(normalize=True).head(3))\n",
    "\n",
    "# Relación con área urbana/rural\n",
    "print(\"\\n\\t ÁREA URBANA/RURAL \")\n",
    "print(\"Proporción en nulos vs total:\")\n",
    "print(\"Nulos:\", nulos_depto['cole_area_ubicacion'].value_counts(normalize=True))\n",
    "print(\"Total:\", df_clean['cole_area_ubicacion'].value_counts(normalize=True))\n",
    "\n",
    "# Solapamiento con municipio\n",
    "print(\"\\n\\t SOLAPAMIENTO CON MUNICIPIO \")\n",
    "solapamiento = len(nulos_depto[nulos_depto['estu_cod_mcpio_presentacion'].isnull()])\n",
    "print(f\"Registros con nulos en DEPTO y MUNICIPIO: {solapamiento}/{len(nulos_depto)}\")"
   ]
  },
  {
   "cell_type": "markdown",
   "id": "fb25e9cc",
   "metadata": {},
   "source": [
    "⚠️ El análisis reveló que los valores nulos en _punt_ingles_ y _estu_cod_depto_presentacion_ presentan patrones claros: el 98.5% se concentran en el departamento de Valle (frente al 43.8% esperado), específicamente en colegios urbanos no oficiales, con puntajes globales significativamente más bajos (49.6 vs 299.1). Esta distribución no aleatoria sugiere que los nulos corresponden a casos válidos (ej: estudiantes que no presentaron la prueba) o limitaciones en la recolección de datos en esta región. Por lo tanto, se decidió conservar los nulos en lugar de eliminarlos, ya que su remoción sesgaría la representatividad del análisis para el Valle y ocultaría un hallazgo potencialmente relevante sobre la participación en las pruebas. Esta decisión preserva la integridad de los patrones geográficos y académicos en los datos."
   ]
  }
 ],
 "metadata": {
  "kernelspec": {
   "display_name": "Python 3",
   "language": "python",
   "name": "python3"
  },
  "language_info": {
   "codemirror_mode": {
    "name": "ipython",
    "version": 3
   },
   "file_extension": ".py",
   "mimetype": "text/x-python",
   "name": "python",
   "nbconvert_exporter": "python",
   "pygments_lexer": "ipython3",
   "version": "3.11.9"
  }
 },
 "nbformat": 4,
 "nbformat_minor": 5
}
